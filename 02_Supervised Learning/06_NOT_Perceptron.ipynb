{
 "cells": [
  {
   "cell_type": "markdown",
   "id": "692be9f5-cf33-4d05-99f2-a1aef947e4d5",
   "metadata": {},
   "source": [
    "## NOT PERCEPTRON"
   ]
  },
  {
   "cell_type": "code",
   "execution_count": 4,
   "id": "2e84512c-2dd6-47f4-94f9-ef82efd30af6",
   "metadata": {},
   "outputs": [],
   "source": [
    "import pandas as pd"
   ]
  },
  {
   "cell_type": "code",
   "execution_count": 1,
   "id": "a6c61224-d591-42d7-a05c-e9187e5dfad7",
   "metadata": {},
   "outputs": [],
   "source": [
    "# TODO: Set weight1, weight2, and bias\n",
    "weight1 = 0\n",
    "weight2 = -1\n",
    "bias = 0"
   ]
  },
  {
   "cell_type": "code",
   "execution_count": 5,
   "id": "4d4a8592-05e8-4682-a8ad-a622bb2d9231",
   "metadata": {},
   "outputs": [
    {
     "name": "stdout",
     "output_type": "stream",
     "text": [
      "Nice!  You got it all correct.\n",
      "\n",
      " Input 1    Input 2    Linear Combination    Activation Output   Is Correct\n",
      "       0          0                     0                    1          Yes\n",
      "       0          1                    -1                    0          Yes\n",
      "       1          0                     0                    1          Yes\n",
      "       1          1                    -1                    0          Yes\n"
     ]
    }
   ],
   "source": [
    "# RUN THIS CELL AND DON'T CHANGE ANYTHING BELOW\n",
    "\n",
    "# Inputs and outputs\n",
    "test_inputs = [(0, 0), (0, 1), (1, 0), (1, 1)]\n",
    "correct_outputs = [True, False, True, False]\n",
    "outputs = []\n",
    "\n",
    "# Generate and check output\n",
    "for test_input, correct_output in zip(test_inputs, correct_outputs):\n",
    "    linear_combination = weight1 * test_input[0] + weight2 * test_input[1] + bias\n",
    "    output = int(linear_combination >= 0)\n",
    "    is_correct_string = 'Yes' if output == correct_output else 'No'\n",
    "    outputs.append([test_input[0], test_input[1], linear_combination, output, is_correct_string])\n",
    "\n",
    "# Print output\n",
    "num_wrong = len([output[4] for output in outputs if output[4] == 'No'])\n",
    "output_frame = pd.DataFrame(outputs, columns=['Input 1', '  Input 2', '  Linear Combination', '  Activation Output', '  Is Correct'])\n",
    "if not num_wrong:\n",
    "    print('Nice!  You got it all correct.\\n')\n",
    "else:\n",
    "    print('You got {} wrong.  Keep trying!\\n'.format(num_wrong))\n",
    "print(output_frame.to_string(index=False))"
   ]
  },
  {
   "cell_type": "code",
   "execution_count": null,
   "id": "2a866f9e-0c66-4216-ad26-2d5a574654bd",
   "metadata": {},
   "outputs": [],
   "source": []
  }
 ],
 "metadata": {
  "kernelspec": {
   "display_name": "Python 3 (ipykernel)",
   "language": "python",
   "name": "python3"
  },
  "language_info": {
   "codemirror_mode": {
    "name": "ipython",
    "version": 3
   },
   "file_extension": ".py",
   "mimetype": "text/x-python",
   "name": "python",
   "nbconvert_exporter": "python",
   "pygments_lexer": "ipython3",
   "version": "3.8.19"
  }
 },
 "nbformat": 4,
 "nbformat_minor": 5
}
