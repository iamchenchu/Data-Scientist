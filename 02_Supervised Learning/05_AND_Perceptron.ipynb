{
 "cells": [
  {
   "cell_type": "markdown",
   "id": "fdd41bf5-aaf7-489d-933b-799463d9dd84",
   "metadata": {},
   "source": [
    "## AND PERCEPTRON CODE"
   ]
  },
  {
   "cell_type": "code",
   "execution_count": 1,
   "id": "c1983ad2-2bc4-47a7-a04e-93a98c5c3092",
   "metadata": {},
   "outputs": [],
   "source": [
    "import pandas as pd "
   ]
  },
  {
   "cell_type": "code",
   "execution_count": 3,
   "id": "a122386d-4e77-4407-a9d2-e5f46f66b3cc",
   "metadata": {},
   "outputs": [],
   "source": [
    "# Set w1, w2, b values\n",
    "weight1 = 0\n",
    "weight2 = -1.0\n",
    "bias = 0"
   ]
  },
  {
   "cell_type": "code",
   "execution_count": 4,
   "id": "ce8e9d1b-f9fb-4fc1-a4ab-cae717f41b68",
   "metadata": {},
   "outputs": [],
   "source": [
    "# Inputs and outputs\n",
    "test_inputs = [(0,0),(0,1),(1,0),(1,1)]\n",
    "correct_outputs = [False, False, False, True]\n",
    "outputs = []\n"
   ]
  },
  {
   "cell_type": "code",
   "execution_count": 6,
   "id": "81e82f0d-2080-460a-96c5-1167244d5c4f",
   "metadata": {},
   "outputs": [],
   "source": [
    "# generate outputs and check them \n",
    "\n",
    "for test_input, correct_output in zip(test_inputs, correct_outputs):\n",
    "    linear_combination = weight1 * test_input[0] + weight2 * test_input[1] + bias\n",
    "    output = int(linear_combination >= 0)\n",
    "    is_correct_string = 'Yes' if output == correct_output else 'No'\n",
    "    outputs.append([test_input[0], test_input[1], linear_combination, output, is_correct_string])\n"
   ]
  },
  {
   "cell_type": "code",
   "execution_count": 9,
   "id": "9fb8877f-545f-41fa-a624-8b059dc7e7a4",
   "metadata": {},
   "outputs": [
    {
     "name": "stdout",
     "output_type": "stream",
     "text": [
      "You got 3 wrong. Keep trying.\n",
      "\n",
      " Input 1  Input 2  Linear Combination  Activation Output Is Correct\n",
      "       0        0                 0.0                  1         No\n",
      "       0        1                -1.0                  0        Yes\n",
      "       1        0                 0.0                  1         No\n",
      "       1        1                -1.0                  0         No\n"
     ]
    }
   ],
   "source": [
    "# Print Output\n",
    "num_wrong = len([output[4] for output in outputs if output[4] == 'No'])\n",
    "output_frame = pd.DataFrame(outputs, columns=['Input 1', 'Input 2', 'Linear Combination', 'Activation Output', 'Is Correct'])\n",
    "if not num_wrong:\n",
    "    print('Nice! you got all correct.\\n')\n",
    "else:\n",
    "    print('You got {} wrong. Keep trying.\\n'.format(num_wrong))\n",
    "print(output_frame.to_string(index=False))"
   ]
  },
  {
   "cell_type": "code",
   "execution_count": null,
   "id": "67e58858-e013-447a-8b0c-bed362e3e045",
   "metadata": {},
   "outputs": [],
   "source": []
  }
 ],
 "metadata": {
  "kernelspec": {
   "display_name": "Python 3 (ipykernel)",
   "language": "python",
   "name": "python3"
  },
  "language_info": {
   "codemirror_mode": {
    "name": "ipython",
    "version": 3
   },
   "file_extension": ".py",
   "mimetype": "text/x-python",
   "name": "python",
   "nbconvert_exporter": "python",
   "pygments_lexer": "ipython3",
   "version": "3.8.19"
  }
 },
 "nbformat": 4,
 "nbformat_minor": 5
}
