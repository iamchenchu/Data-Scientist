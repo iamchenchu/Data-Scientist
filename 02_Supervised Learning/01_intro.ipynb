{
 "cells": [
  {
   "cell_type": "code",
   "execution_count": null,
   "id": "22595531-fa24-45c8-9c0d-7a820af2b2a0",
   "metadata": {},
   "outputs": [],
   "source": [
    "\"\"\"\n",
    "This course is designed for students who have some previous programming experience. If you're a complete beginner to programming, \n",
    "we recommend checking out the Intro to Python(opens in a new tab) free course, which will help you skill up in understanding how\n",
    " code is used.\n",
    "\n",
    "Programming\n",
    "Python Programming: Writing functions, logic, control flow, array and list storage, and building basic applications, as well as common data analysis libraries like NumPy and pandas\n",
    "Comfortable with using the Terminal, version control in Git, and using GitHub\n",
    "\n",
    "Probability and Statistics\n",
    "Descriptive Statistics: Calculating measures of center and spread estimation distributions, standard deviation\n",
    "Probability: Probability theory, conditional probability\n",
    "If you need a little extra guidance on statistics, check out Udacity's free Descriptive Statistics(opens in a new tab) course.\n",
    "\n",
    "Mathematics\n",
    "Calculus: Maximizing and minimizing algebraic equations\n",
    "For a refresher or to gain a bit more background on maximizing and minimizing algebraic equations using calculus, here is a Calculus Learning Guide(opens in a new tab).\n",
    "Linear Algebra: Matrix manipulation and multiplication, normalization\n",
    "For a refresher or to gain a bit more background on linear algebra, here is an Intuitive Guide to Linear Algebra(opens in a new tab).\n",
    "\n",
    "Data wrangling\n",
    "Accessing database, CSV, and JSON data\n",
    "Data cleaning and transformations using pandas and Sklearn\n",
    "Data visualization with matplotlib\n",
    "Exploratory data analysis and visualization\n",
    "Explanatory data visualizations and dashboards\n",
    "If you need a little extra guidance on data wrangling, check out Udacity's free Data Wrangling with MongoDB(opens in a new tab) course.\n",
    "\n",
    "Machine Learning\n",
    "Not required, but helpful\n",
    "Some basic understanding of Supervised Learning, specifically targetting regression, classification, decision trees, random forest, SVM, Naive Bayes\n",
    "Some basic understanding of evaluation metrics\n",
    "\n",
    "\"\"\""
   ]
  }
 ],
 "metadata": {
  "kernelspec": {
   "display_name": "Python 3 (ipykernel)",
   "language": "python",
   "name": "python3"
  },
  "language_info": {
   "codemirror_mode": {
    "name": "ipython",
    "version": 3
   },
   "file_extension": ".py",
   "mimetype": "text/x-python",
   "name": "python",
   "nbconvert_exporter": "python",
   "pygments_lexer": "ipython3",
   "version": "3.8.19"
  }
 },
 "nbformat": 4,
 "nbformat_minor": 5
}
