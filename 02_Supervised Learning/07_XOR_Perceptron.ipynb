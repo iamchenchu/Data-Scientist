{
 "cells": [
  {
   "cell_type": "markdown",
   "id": "17f762fb-46c0-462c-b3eb-d98b2b0bc366",
   "metadata": {},
   "source": [
    "## XOR Perceptron"
   ]
  },
  {
   "cell_type": "code",
   "execution_count": null,
   "id": "fb6ddf4e-614d-4d53-a3c3-a825d231b6fe",
   "metadata": {},
   "outputs": [],
   "source": []
  }
 ],
 "metadata": {
  "kernelspec": {
   "display_name": "Python 3 (ipykernel)",
   "language": "python",
   "name": "python3"
  },
  "language_info": {
   "codemirror_mode": {
    "name": "ipython",
    "version": 3
   },
   "file_extension": ".py",
   "mimetype": "text/x-python",
   "name": "python",
   "nbconvert_exporter": "python",
   "pygments_lexer": "ipython3",
   "version": "3.8.19"
  }
 },
 "nbformat": 4,
 "nbformat_minor": 5
}
